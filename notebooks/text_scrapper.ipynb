{
 "cells": [
  {
   "cell_type": "code",
   "execution_count": null,
   "metadata": {},
   "outputs": [],
   "source": [
    "import sys\n",
    "import os\n",
    "\n",
    "# Add the parent directory to the Python path\n",
    "sys.path.append(os.path.abspath(\"..\"))\n",
    "\n",
    "# Import the script from the `scripts` folder\n",
    "from scripts import telegram_text_scrap\n",
    "\n",
    "# Use functions from the script\n",
    "channel = \"@qnashcom\"  # Specify your channel\n",
    "messages = telegram_text_scrap.fetch_messages(channel)  # Call the fetch function\n",
    "telegram_text_scrap.save_to_csv(messages, \"qnashcom_messages.csv\")  # Save to CSV\n"
   ]
  },
  {
   "cell_type": "code",
   "execution_count": null,
   "metadata": {},
   "outputs": [],
   "source": [
    "# Import the script from the `scripts` folder\n",
    "from scripts import preprocessing\n",
    "preprocessing()\n"
   ]
  },
  {
   "cell_type": "code",
   "execution_count": null,
   "metadata": {},
   "outputs": [],
   "source": [
    "from scripts import label_coNLL"
   ]
  }
 ],
 "metadata": {
  "kernelspec": {
   "display_name": "base",
   "language": "python",
   "name": "python3"
  },
  "language_info": {
   "codemirror_mode": {
    "name": "ipython",
    "version": 3
   },
   "file_extension": ".py",
   "mimetype": "text/x-python",
   "name": "python",
   "nbconvert_exporter": "python",
   "pygments_lexer": "ipython3",
   "version": "3.12.7"
  }
 },
 "nbformat": 4,
 "nbformat_minor": 2
}
